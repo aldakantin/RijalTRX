!wget https://github.com/Lolliedieb/lolMiner-releases/releases/download/1.42/lolMiner_v1.42_Lin64.tar.gz
!tar -xf lolMiner_v1.42_Lin64.tar.gz
%cd 1.42
!./lolMiner --algo ETHASH --pool ethash.unmineable.com:3333 --user TRX:TWj4u16JzgqR7wMatBWcKjp3R8PGNeYhCp.WORKER_samuelrijal780@gmail.com --ethstratum ETHPROXY
